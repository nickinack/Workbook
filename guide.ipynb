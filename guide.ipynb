{
 "cells": [
  {
   "cell_type": "markdown",
   "metadata": {},
   "source": [
    "## Guide to using Jupyter Notebooks"
   ]
  },
  {
   "cell_type": "markdown",
   "metadata": {},
   "source": [
    "1. **Installation and Running on Terminal**"
   ]
  },
  {
   "cell_type": "markdown",
   "metadata": {},
   "source": [
    "To install Jupyter notebooks , type the following command\n",
    "\n",
    "` pip3 install notebook `\n",
    "\n",
    "After installation is over , type the following command in order to run the notebook on local host\n",
    "\n",
    "` jupyter notebook `\n"
   ]
  },
  {
   "cell_type": "markdown",
   "metadata": {},
   "source": [
    "Once Installed , start out by typing some basic commands like"
   ]
  },
  {
   "cell_type": "code",
   "execution_count": 1,
   "metadata": {},
   "outputs": [
    {
     "data": {
      "text/plain": [
       "8"
      ]
     },
     "execution_count": 1,
     "metadata": {},
     "output_type": "execute_result"
    }
   ],
   "source": [
    "4 + 4"
   ]
  },
  {
   "cell_type": "code",
   "execution_count": 2,
   "metadata": {},
   "outputs": [
    {
     "data": {
      "text/plain": [
       "3"
      ]
     },
     "execution_count": 2,
     "metadata": {},
     "output_type": "execute_result"
    }
   ],
   "source": [
    "a = 1\n",
    "b = 2\n",
    "a + b"
   ]
  },
  {
   "cell_type": "markdown",
   "metadata": {},
   "source": [
    "To execute a cell, you must press **shift + enter** and you get the output for that particular cell. Note that any variables you declare on one cell can be used / manipulated in any other cell too! So you can include explanations / make your code look clean by using jupyter notebooks.  These notebooks are stored with an extension **.ipynb** ."
   ]
  },
  {
   "cell_type": "code",
   "execution_count": null,
   "metadata": {},
   "outputs": [],
   "source": [
    "%%bash\n",
    "# <Any bash Command>"
   ]
  },
  {
   "cell_type": "markdown",
   "metadata": {},
   "source": [
    "You may also type in any bash command by just including\n",
    "\n",
    "`%%bash`"
   ]
  },
  {
   "cell_type": "markdown",
   "metadata": {},
   "source": [
    "2. **Installing libraries using Jupyter**"
   ]
  },
  {
   "cell_type": "markdown",
   "metadata": {},
   "source": [
    "Install any libraries using the command\n",
    "\n",
    "` !pip3 install <lib-name> ` "
   ]
  },
  {
   "cell_type": "markdown",
   "metadata": {},
   "source": [
    "3. **Some handy shortcuts**"
   ]
  },
  {
   "cell_type": "markdown",
   "metadata": {},
   "source": [
    "Make sure you are not present in any cell while trying to implement these shortcuts:\n",
    "\n",
    "1. Scroll up and down your cells with your Up and Down keys.\n",
    "2. Press A or B to insert a new cell above or below the active cell.\n",
    "3. M will transform the active cell to a Markdown cell.\n",
    "4. Y will set the active cell to a code cell.\n",
    "5. D + D (D twice) will delete the active cell.\n",
    "6. Z will undo cell deletion.\n",
    "7. Hold Shift and press Up or Down to select multiple cells at once.\n",
    "8. With multiple cells selected, Shift + M will merge your selection."
   ]
  },
  {
   "cell_type": "markdown",
   "metadata": {},
   "source": [
    "4. **Using Gists to share your notebook in Github**"
   ]
  },
  {
   "cell_type": "markdown",
   "metadata": {},
   "source": [
    "Since 2008, GitHub has provided its Gist service for hosting and sharing code snippets, which each get their own repository. To share a notebook using Gists:\n",
    "\n",
    "1. Sign in and browse to gist.github.com.\n",
    "2. Open your .ipynb file in a text editor, select all and copy the JSON inside.\n",
    "3. Paste the notebook JSON into the gist.\n",
    "4. Give your Gist a filename, remembering to add .iypnb or this will not work.\n",
    "5. Click either “Create secret gist” or “Create public gist.”"
   ]
  },
  {
   "cell_type": "markdown",
   "metadata": {},
   "source": [
    "5. **Tutorials**"
   ]
  },
  {
   "cell_type": "markdown",
   "metadata": {},
   "source": [
    "For some advanced tutorials, visit:\n",
    "\n",
    "**https://www.dataquest.io/blog/advanced-jupyter-notebooks-tutorial/**"
   ]
  },
  {
   "cell_type": "markdown",
   "metadata": {},
   "source": [
    "For guidelines on how to write Markdown text, visit:\n",
    "    \n",
    "**https://jupyter-notebook.readthedocs.io/en/stable/examples/Notebook/Working%20With%20Markdown%20Cells.html**"
   ]
  },
  {
   "cell_type": "markdown",
   "metadata": {},
   "source": [
    "6. **Solutions to all Python workbook questions**"
   ]
  },
  {
   "cell_type": "markdown",
   "metadata": {},
   "source": [
    "**https://github.com/IIITSERC/Workbook**"
   ]
  }
 ],
 "metadata": {
  "kernelspec": {
   "display_name": "Python 3",
   "language": "python",
   "name": "python3"
  },
  "language_info": {
   "codemirror_mode": {
    "name": "ipython",
    "version": 3
   },
   "file_extension": ".py",
   "mimetype": "text/x-python",
   "name": "python",
   "nbconvert_exporter": "python",
   "pygments_lexer": "ipython3",
   "version": "3.8.2"
  }
 },
 "nbformat": 4,
 "nbformat_minor": 4
}
